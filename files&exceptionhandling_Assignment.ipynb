{
  "nbformat": 4,
  "nbformat_minor": 0,
  "metadata": {
    "colab": {
      "provenance": [],
      "authorship_tag": "ABX9TyMg1ugNywiP4YYV/H/fNgUR",
      "include_colab_link": true
    },
    "kernelspec": {
      "name": "python3",
      "display_name": "Python 3"
    },
    "language_info": {
      "name": "python"
    }
  },
  "cells": [
    {
      "cell_type": "markdown",
      "metadata": {
        "id": "view-in-github",
        "colab_type": "text"
      },
      "source": [
        "<a href=\"https://colab.research.google.com/github/Sangeetha12199/files-exceptionhandling_assignemnt/blob/main/files%26exceptionhandling_Assignment.ipynb\" target=\"_parent\"><img src=\"https://colab.research.google.com/assets/colab-badge.svg\" alt=\"Open In Colab\"/></a>"
      ]
    },
    {
      "cell_type": "markdown",
      "source": [
        "1.What is the difference between interpreted and compiled languages?\n",
        "- An interpreted language is executed line-by-line by an interpreter at runtime.The interpreter takes the source code and converts it into machine code dynamically while the program is running. There is no separate \"compiled\" output.\n",
        "Ex : Python,javascript,ruby\n",
        "\n",
        "- A compiled language is translated directly into machine code (binary code) by a compiler before execution. The compiler takes the entire source code, processes it, and creates an executable file.After compilation, the program can be run without the need for the original source code or a compiler.\n",
        "Ex : c, c++,java\n",
        "\n",
        "\n",
        "2.What is exception handling in Python?\n",
        "- An exception in python is an event that occurs during programme execution that disrupts the regular flow of the program. Responding to such exceptions in a controlled way is called exception handling.\n",
        "\n",
        "Ex\n",
        "try:\n",
        "5/10\n",
        "except Exception as e:\n",
        "print(f\"there is an error which is {e}\")\n",
        "\n",
        "3.What is the purpose of the finally block in exception handling?\n",
        "- finally block in exception handling is executed regardless of the exception occured or not. It is often used to clean up activities such as closing files,releasing resources or any other necessary task that need to done no matter what.\n",
        "\n",
        "4.What is logging in Python?\n",
        "- Logging records the state anf=d flow of your program and show how the program behaves overtime. It is useful for understanding , monitorinf and debugging of your code.\n",
        "\n",
        "5.What is the significance of the __del__ method in Python?\n",
        "- __del__ is a way to clean up resources when an object is about to be destroyed, but it has limitations like being dependent on the garbage collector, potential issues with circular references, and the inability to predict exactly when it will be called.\n",
        "\n",
        "6.What is the difference between import and from ... import in Python?\n",
        "- import in python is used when you want to bring the entire module.To access functions, classes, or variables from the module, you need to prefix them with the module name.\n",
        "\n",
        "Ex:\n",
        "import math\n",
        "print(math.sqrt(35))\n",
        "\n",
        "- from...import is used to import specific functions, classes, or variables from a module directly into your current namespace. As a result, you don't need to prefix the imported items with the module name.\n",
        "\n",
        "Ex:\n",
        "from math import sqrt\n",
        "print(sqrt(25))\n",
        "\n",
        "7.How can you handle multiple exceptions in Python?\n",
        "- Multiple exceptions in python can be done by specifing  multiple except blocks, each for a different type of exception. This is useful when you want to handle different types of exceptions in different ways.\n",
        "\n",
        "Ex:\n",
        "try:\n",
        "    result = 10 / int(input(\"Enter a number: \"))\n",
        "except ZeroDivisionError:\n",
        "    print(\"Cannot divide by zero!\")\n",
        "except ValueError:\n",
        "    print(\"Invalid input! Please enter a valid number.\")\n",
        "except Exception as e:\n",
        "    print(f\"An unexpected error occurred: {e}\")\n",
        "\n",
        "8.What is the purpose of the with statement when handling files in Python?\n",
        "- The main purpose of the with statement when handling files is to automatically close the file once the block of code is finished.\n",
        "\n",
        "with open(file.txt,'r') as f:\n",
        " line = f.readline()\n",
        " print(line)\n",
        "\n",
        " 9.What is the difference between multithreading and multiprocessing0\n",
        " - Multithreading happens on one processor thereby shares same memory space and resources within the processor where as multiprocessing happens on multiple processors there by each process has its own memory space and resources isolated from other processes.\n",
        "\n",
        " 10.What are the advantages of using logging in a program?\n",
        " - Logging helps in debugging the program, better understaning of program flow , easier trouble shooting etc.\n",
        "\n",
        " 11. What is memory management in Python?\n",
        " - Memory management in Python refers to the process of managing and allocating memory for objects and data structures during the execution of a Python program. Python, like most programming languages, manages memory automatically, but it also provides developers with mechanisms to optimize and track memory usage. This ensures that memory is used efficiently and that resources are released when they are no longer needed.\n",
        "\n",
        " 12.What are the basic steps involved in exception handling in Python?\n",
        " - Basic steps are:\n",
        " - try: Try the code.\n",
        "\n",
        "- except: Handle specific exceptions.\n",
        "\n",
        "- else: Runs if no exception occurs.\n",
        "\n",
        "- finally: Always runs, useful for cleanup.\n",
        "\n",
        "Ex:\n",
        "try:\n",
        "    x = 10 / 0\n",
        "except ZeroDivisionError:\n",
        "    print(\"You can't divide by zero!\")\n",
        "else:\n",
        "    print(\"No errors.\")\n",
        "finally:\n",
        "    print(\"This always runs.\")\n",
        "\n",
        "13. Why is memory management important in Python?\n",
        "- Memory management in Python is important because it:\n",
        "\n",
        "Optimizes performance by using resources efficiently.\n",
        "\n",
        "Prevents memory leaks by automatically cleaning up unused objects.\n",
        "\n",
        "Improves scalability for large applications.\n",
        "\n",
        "Handles large data efficiently without crashing.\n",
        "\n",
        "Reduces fragmentation to avoid inefficient memory use.\n",
        "\n",
        "14. What is the role of try and except in exception handling?\n",
        "- try: Runs code that might raise an error.\n",
        "\n",
        "- except: Catches and handles the error, preventing the program from crashing.\n",
        "\n",
        "15. How does Python's garbage collection system work?\n",
        "- Reference Counting: Deletes objects when their reference count drops to zero.\n",
        "\n",
        "- Garbage Collector: Cleans up cyclic references (objects referring to each other).\n",
        "\n",
        "- Generations: Collects younger objects more frequently and older ones less often.\n",
        "\n",
        "This ensures efficient memory management and cleanup of unused objects.\n",
        "\n",
        "16. What is the purpose of the else block in exception handling?\n",
        "- else block in exception handling runs when there is no exception occurred.\n",
        "\n",
        "17. What are the common logging levels in Python?\n",
        "- The common logging levels in Python are:\n",
        "\n",
        "DEBUG: Detailed information for debugging (lowest level).\n",
        "\n",
        "INFO: General information about the program's execution.\n",
        "\n",
        "WARNING: Indicates a potential issue, but not necessarily an error.\n",
        "\n",
        "ERROR: Indicates a more serious problem that prevents the program from functioning correctly.\n",
        "\n",
        "CRITICAL: A very severe error that may cause the program to stop.\n",
        "\n",
        "18. What is the difference between os.fork() and multiprocessing in Python?\n",
        "- os.fork() is a low-level, OS-specific way to create processes, while multiprocessing is a higher-level, cross-platform library designed for easier process management.\n",
        "\n",
        "19. What is the importance of closing a file in Python?\n",
        "- Closing a file in Python is important to:\n",
        "\n",
        "Free resources like file handles.\n",
        "\n",
        "Ensure data is saved (flush buffers).\n",
        "\n",
        "Prevent memory leaks.\n",
        "\n",
        "Using the with statement automatically handles closing the file.\n",
        "\n",
        "20. What is the difference between file.read() and file.readline() in Python?\n",
        "- file.read() reads everythinng from the start of files where as file.readline() reads the first line.\n",
        "\n",
        "21.  What is the logging module in Python used for?\n",
        "- The logging module is used for tracking and recording events in your program, providing various logging levels (DEBUG, INFO, WARNING, ERROR, CRITICAL). It helps with debugging, monitoring, and error handling in a scalable way.\n",
        "\n",
        "22. What is the os module in Python used for in file handling?\n",
        "- The os module provides functions to interact with the operating system, including file handling operations like creating, deleting, renaming, and modifying files and directories. Common functions include os.open(), os.remove(), and os.rename().\n",
        "\n",
        "23. What are the challenges associated with memory management in Python?\n",
        "- Memory Leaks: Unused objects not being garbage collected.\n",
        "\n",
        "Fragmentation: Memory becomes inefficiently allocated over time.\n",
        "\n",
        "Circular References: Objects referring to each other may not be cleaned up by reference counting alone.\n",
        "\n",
        "Limited control: Python’s automatic memory management can be harder to optimize for complex scenarios.\n",
        "\n",
        "24.  How do you raise an exception manually in Python?\n",
        "- Use the raise keyword to manually trigger an exception in Python.\n",
        "Ex:\n",
        "raise ValueError(\"This is a custom error message\")\n",
        "\n",
        "25. Why is it important to use multithreading in certain applications?\n",
        "- Concurrency: Multithreading allows multiple tasks to run simultaneously, improving efficiency for I/O-bound tasks (like file operations or network requests).\n",
        "\n",
        "- Performance: It can make applications more responsive and faster by utilizing multiple CPU cores for parallel execution in suitable scenarios.\n",
        "\n"
      ],
      "metadata": {
        "id": "qa-F8damhiMm"
      }
    },
    {
      "cell_type": "markdown",
      "source": [
        "Practical questions"
      ],
      "metadata": {
        "id": "zLt1Zp8Rvg2z"
      }
    },
    {
      "cell_type": "markdown",
      "source": [
        "1. How can you open a file for writing in Python and write a string to it?"
      ],
      "metadata": {
        "id": "-UlX2TZCvjgd"
      }
    },
    {
      "cell_type": "code",
      "source": [
        "with open(\"file.txt\",'w') as f:\n",
        "  f.write(\"hello world\")\n"
      ],
      "metadata": {
        "id": "Hi7AWCPSr-mE"
      },
      "execution_count": 1,
      "outputs": []
    },
    {
      "cell_type": "markdown",
      "source": [
        "2.Write a Python program to read the contents of a file and print each line\n"
      ],
      "metadata": {
        "id": "OTBXz1Jvv4SN"
      }
    },
    {
      "cell_type": "code",
      "source": [
        "with open(\"file.txt\",'r') as f:\n",
        "  line = f.readline()\n",
        "  print(line)"
      ],
      "metadata": {
        "colab": {
          "base_uri": "https://localhost:8080/"
        },
        "id": "AJOpXaYIv_Nd",
        "outputId": "2c64203e-a879-4203-e872-e19042e96c2b"
      },
      "execution_count": 2,
      "outputs": [
        {
          "output_type": "stream",
          "name": "stdout",
          "text": [
            "hello world\n"
          ]
        }
      ]
    },
    {
      "cell_type": "markdown",
      "source": [
        "3.How would you handle a case where the file doesn't exist while trying to open it for reading?"
      ],
      "metadata": {
        "id": "sJcmL9j6wFQM"
      }
    },
    {
      "cell_type": "code",
      "source": [
        "try:\n",
        "  with open(\"text.txt\",'r') as f:\n",
        "    print(f.read())\n",
        "except Exception as e :\n",
        "  print(f\"error while opening the file {e}\")"
      ],
      "metadata": {
        "colab": {
          "base_uri": "https://localhost:8080/"
        },
        "id": "DS4lgvIDwLS_",
        "outputId": "f54a4ac1-ae6b-4392-bc84-490bba82848f"
      },
      "execution_count": 3,
      "outputs": [
        {
          "output_type": "stream",
          "name": "stdout",
          "text": [
            "error while opening the file [Errno 2] No such file or directory: 'text.txt'\n"
          ]
        }
      ]
    },
    {
      "cell_type": "markdown",
      "source": [
        "4.Write a Python script that reads from one file and writes its content to another file?"
      ],
      "metadata": {
        "id": "8t1qI73xwmjc"
      }
    },
    {
      "cell_type": "code",
      "source": [
        "with open(\"file.txt\",'r') as f:\n",
        "  with open(\"text.txt\",'w') as g:\n",
        "    g.write(f.read())\n",
        "\n",
        "\n"
      ],
      "metadata": {
        "id": "ZcmSvRy7wtb8"
      },
      "execution_count": 4,
      "outputs": []
    },
    {
      "cell_type": "markdown",
      "source": [
        "5.How would you catch and handle division by zero error in Python?"
      ],
      "metadata": {
        "id": "BDl351NBw8OQ"
      }
    },
    {
      "cell_type": "code",
      "source": [
        "try :\n",
        "  5/ int(input(\"enter a number\"))\n",
        "except ZeroDivisionError as e:\n",
        "  print(f\"error is {e}\")"
      ],
      "metadata": {
        "colab": {
          "base_uri": "https://localhost:8080/"
        },
        "id": "x0YFsjrIxC4A",
        "outputId": "23e30c06-d34e-4deb-907e-0734a7ee455d"
      },
      "execution_count": 5,
      "outputs": [
        {
          "output_type": "stream",
          "name": "stdout",
          "text": [
            "enter a number0\n",
            "error is division by zero\n"
          ]
        }
      ]
    },
    {
      "cell_type": "markdown",
      "source": [
        "6.Write a Python program that logs an error message to a log file when a division by zero exception occurs?\n"
      ],
      "metadata": {
        "id": "W5g7aDUExL1q"
      }
    },
    {
      "cell_type": "code",
      "source": [
        "import logging\n",
        "logging.basicConfig(filename=\"error.log\",level=logging.ERROR)\n",
        "try:\n",
        "  5/ int(input(\"enter a number\"))\n",
        "except ZeroDivisionError as e:\n",
        "  logging.error(f\"error is {e}\")\n"
      ],
      "metadata": {
        "colab": {
          "base_uri": "https://localhost:8080/"
        },
        "id": "Edd-mDM1xUzr",
        "outputId": "cf615b06-f5b0-424f-84b1-19e8106eaaaf"
      },
      "execution_count": 9,
      "outputs": [
        {
          "name": "stdout",
          "output_type": "stream",
          "text": [
            "enter a number0\n"
          ]
        },
        {
          "output_type": "stream",
          "name": "stderr",
          "text": [
            "ERROR:root:error is division by zero\n"
          ]
        }
      ]
    },
    {
      "cell_type": "markdown",
      "source": [
        "7.How do you log information at different levels (INFO, ERROR, WARNING) in Python using the logging module?"
      ],
      "metadata": {
        "id": "eF82uthjxqgn"
      }
    },
    {
      "cell_type": "code",
      "source": [
        "import logging\n",
        "logging.basicConfig(filename=\"error1.log\",level=logging.ERROR)\n",
        "try:\n",
        "  logging.info(\"trying to open a file\")\n",
        "  f = open('first.txt','r')\n",
        "  logging.warning(\"file might not be present\")\n",
        "except Exception as e:\n",
        "  logging.error(f\"error is {e}\")\n",
        "else:\n",
        "  logging.info(\"file opened successfully\")\n",
        "finally:\n",
        "  f.close()"
      ],
      "metadata": {
        "colab": {
          "base_uri": "https://localhost:8080/"
        },
        "id": "uqhCb_ysxzUl",
        "outputId": "ccb13b01-8520-4c21-b978-ed14b758f9a4"
      },
      "execution_count": 35,
      "outputs": [
        {
          "output_type": "stream",
          "name": "stderr",
          "text": [
            "ERROR:root:error is [Errno 2] No such file or directory: 'first.txt'\n"
          ]
        }
      ]
    },
    {
      "cell_type": "markdown",
      "source": [
        "8. Write a program to handle a file opening error using exception handling?"
      ],
      "metadata": {
        "id": "T2Ld6ZQRzGgX"
      }
    },
    {
      "cell_type": "code",
      "source": [
        "try:\n",
        "  with open(\"first.txt\",'r') as f:\n",
        "    print(f.read())\n",
        "except Exception as e:\n",
        "  print(f\"error is {e}\")"
      ],
      "metadata": {
        "colab": {
          "base_uri": "https://localhost:8080/"
        },
        "id": "rMfKBHgMzNFZ",
        "outputId": "5d926c36-d6b0-479c-a2eb-542548eea7ba"
      },
      "execution_count": 10,
      "outputs": [
        {
          "output_type": "stream",
          "name": "stdout",
          "text": [
            "error is [Errno 2] No such file or directory: 'first.txt'\n"
          ]
        }
      ]
    },
    {
      "cell_type": "markdown",
      "source": [
        "9.How can you read a file line by line and store its content in a list in Python?"
      ],
      "metadata": {
        "id": "vWbd12HazSdv"
      }
    },
    {
      "cell_type": "code",
      "source": [
        "\n",
        "with open(\"file.txt\",'r') as f:\n",
        "  lines = f.readlines()\n",
        "  print(lines)"
      ],
      "metadata": {
        "colab": {
          "base_uri": "https://localhost:8080/"
        },
        "id": "x4OnSmHZzbVZ",
        "outputId": "8e82cb60-839d-4c9e-a4ba-30e217ef299a"
      },
      "execution_count": 17,
      "outputs": [
        {
          "output_type": "stream",
          "name": "stdout",
          "text": [
            "['hello worldappending data\\n', 'appending data']\n"
          ]
        }
      ]
    },
    {
      "cell_type": "markdown",
      "source": [
        "10.How can you append data to an existing file in Python?"
      ],
      "metadata": {
        "id": "lH_a1U4Qzhjj"
      }
    },
    {
      "cell_type": "code",
      "source": [
        "with open('file.txt','a')as f:\n",
        "  f.write(\"\\nappending data\")"
      ],
      "metadata": {
        "id": "PvAa_ArdzhK0"
      },
      "execution_count": 16,
      "outputs": []
    },
    {
      "cell_type": "markdown",
      "source": [
        "11.Write a Python program that uses a try-except block to handle an error when attempting to access a\n",
        "dictionary key that doesn't exist"
      ],
      "metadata": {
        "id": "mJGB5zRgz7sf"
      }
    },
    {
      "cell_type": "code",
      "source": [
        "d = {'name':'sangeetha','age':'25','location':'hyd'}\n",
        "try:\n",
        "  print(d['gender'])\n",
        "except Exception as e:\n",
        "  print(f\"error is {e}\")\n"
      ],
      "metadata": {
        "colab": {
          "base_uri": "https://localhost:8080/"
        },
        "id": "HI1ODyss0F4-",
        "outputId": "6c78f7d9-73ed-4188-d592-1da780ac736d"
      },
      "execution_count": 21,
      "outputs": [
        {
          "output_type": "stream",
          "name": "stdout",
          "text": [
            "error is 'gender'\n"
          ]
        }
      ]
    },
    {
      "cell_type": "markdown",
      "source": [
        "12.Write a program that demonstrates using multiple except blocks to handle different types of exceptions?\n"
      ],
      "metadata": {
        "id": "52q8QaVi0iD0"
      }
    },
    {
      "cell_type": "code",
      "source": [
        "try:\n",
        " rs= 5/int(input(\"enter a number :\"))\n",
        "except ZeroDivisionError as e:\n",
        "  print(f\"error is {e}\")\n",
        "except ValueError as e:\n",
        "  print(f\"error is {e}\")\n",
        "except Exception as e:\n",
        "  print(e)\n",
        "\n",
        "else:\n",
        "  print(rs)"
      ],
      "metadata": {
        "colab": {
          "base_uri": "https://localhost:8080/"
        },
        "id": "HcyiK33R0hnG",
        "outputId": "b08238bf-ab03-4fef-e2d9-1e5892aba225"
      },
      "execution_count": 26,
      "outputs": [
        {
          "output_type": "stream",
          "name": "stdout",
          "text": [
            "enter a number :jh\n",
            "error is invalid literal for int() with base 10: 'jh'\n"
          ]
        }
      ]
    },
    {
      "cell_type": "markdown",
      "source": [
        "13.  How would you check if a file exists before attempting to read it in Python?"
      ],
      "metadata": {
        "id": "XqOVL9nW1RyN"
      }
    },
    {
      "cell_type": "code",
      "source": [
        "from pathlib import Path\n",
        "\n",
        "file_path = Path('file.txt')\n",
        "\n",
        "if file_path.exists():\n",
        "    with open(file_path, 'r') as file:\n",
        "        content = file.read()\n",
        "        print(content)\n",
        "else:\n",
        "    print(\"File does not exist.\")"
      ],
      "metadata": {
        "colab": {
          "base_uri": "https://localhost:8080/"
        },
        "id": "tb9Fh28P1ZK3",
        "outputId": "bb9c97d9-1ee8-4fae-dcd5-1c5e6eb982c3"
      },
      "execution_count": 27,
      "outputs": [
        {
          "output_type": "stream",
          "name": "stdout",
          "text": [
            "hello worldappending data\n",
            "appending data\n"
          ]
        }
      ]
    },
    {
      "cell_type": "markdown",
      "source": [
        "14.Write a program that uses the logging module to log both informational and error messages?"
      ],
      "metadata": {
        "id": "B52D_Wv6JpQ5"
      }
    },
    {
      "cell_type": "code",
      "source": [
        "import logging\n",
        "\n",
        "logging.basicConfig(\n",
        "    filename='app.log',\n",
        "    level=logging.DEBUG,        # Capture all levels DEBUG and above\n",
        "    format='%(asctime)s - %(levelname)s - %(message)s'\n",
        ")\n",
        "\n",
        "# Log an informational message\n",
        "logging.info(\"Program started successfully.\")\n",
        "\n",
        "# A sample function to divide two numbers\n",
        "def divide(a, b):\n",
        "    try:\n",
        "        result = a / b\n",
        "        logging.info(f\"Division successful: {a} / {b} = {result}\")\n",
        "        return result\n",
        "    except ZeroDivisionError as e:\n",
        "        logging.error(\"Division by zero error!\")\n",
        "        return None\n",
        "\n",
        "# Example usage\n",
        "divide(10, 2)   # This will log an info message\n",
        "divide(5, 0)    # This will log an error message\n",
        "\n",
        "logging.info(\"Program finished.\")"
      ],
      "metadata": {
        "colab": {
          "base_uri": "https://localhost:8080/"
        },
        "id": "5oYrTi91J5ob",
        "outputId": "816352f9-768e-4b79-ff72-ceed1b960fe1"
      },
      "execution_count": 28,
      "outputs": [
        {
          "output_type": "stream",
          "name": "stderr",
          "text": [
            "ERROR:root:Division by zero error!\n"
          ]
        }
      ]
    },
    {
      "cell_type": "markdown",
      "source": [
        "15. Write a Python program that prints the content of a file and handles the case when the file is empty"
      ],
      "metadata": {
        "id": "EF26CMYBKEvo"
      }
    },
    {
      "cell_type": "code",
      "source": [
        "try:\n",
        "    with open(\"file.txt\", 'r') as f:\n",
        "        content = f.read()\n",
        "        if content.strip():\n",
        "            print(content)\n",
        "        else:\n",
        "            print(\"File is empty\")\n",
        "except FileNotFoundError:\n",
        "    print(\"Error: file.txt does not exist.\")\n",
        "except Exception as e:\n",
        "    print(f\"An error occurred: {e}\")"
      ],
      "metadata": {
        "colab": {
          "base_uri": "https://localhost:8080/"
        },
        "id": "QfFn9cPnKJhV",
        "outputId": "b1a60a9d-8536-4305-ebdc-40a5ac7e76b8"
      },
      "execution_count": 29,
      "outputs": [
        {
          "output_type": "stream",
          "name": "stdout",
          "text": [
            "hello worldappending data\n",
            "appending data\n"
          ]
        }
      ]
    },
    {
      "cell_type": "markdown",
      "source": [
        "16.Demonstrate how to use memory profiling to check the memory usage of a small program?"
      ],
      "metadata": {
        "id": "NcYREbOIKsia"
      }
    },
    {
      "cell_type": "code",
      "source": [
        "from memory_profiler import profile\n",
        "\n",
        "@profile\n",
        "def create_large_list():\n",
        "    data = [x * 2 for x in range(1000000)]  # Allocate a large list\n",
        "    return data\n",
        "\n",
        "if __name__ == \"__main__\":\n",
        "    create_large_list()"
      ],
      "metadata": {
        "colab": {
          "base_uri": "https://localhost:8080/",
          "height": 384
        },
        "collapsed": true,
        "id": "9bk1WVwqKr8r",
        "outputId": "57c8ea1a-d15a-4e0d-b9a4-a5760962fe37"
      },
      "execution_count": 31,
      "outputs": [
        {
          "output_type": "error",
          "ename": "ModuleNotFoundError",
          "evalue": "No module named 'memory_profiler'",
          "traceback": [
            "\u001b[0;31m---------------------------------------------------------------------------\u001b[0m",
            "\u001b[0;31mModuleNotFoundError\u001b[0m                       Traceback (most recent call last)",
            "\u001b[0;32m/tmp/ipython-input-31-327634380.py\u001b[0m in \u001b[0;36m<cell line: 0>\u001b[0;34m()\u001b[0m\n\u001b[0;32m----> 1\u001b[0;31m \u001b[0;32mfrom\u001b[0m \u001b[0mmemory_profiler\u001b[0m \u001b[0;32mimport\u001b[0m \u001b[0mprofile\u001b[0m\u001b[0;34m\u001b[0m\u001b[0;34m\u001b[0m\u001b[0m\n\u001b[0m\u001b[1;32m      2\u001b[0m \u001b[0;34m\u001b[0m\u001b[0m\n\u001b[1;32m      3\u001b[0m \u001b[0;34m@\u001b[0m\u001b[0mprofile\u001b[0m\u001b[0;34m\u001b[0m\u001b[0;34m\u001b[0m\u001b[0m\n\u001b[1;32m      4\u001b[0m \u001b[0;32mdef\u001b[0m \u001b[0mcreate_large_list\u001b[0m\u001b[0;34m(\u001b[0m\u001b[0;34m)\u001b[0m\u001b[0;34m:\u001b[0m\u001b[0;34m\u001b[0m\u001b[0;34m\u001b[0m\u001b[0m\n\u001b[1;32m      5\u001b[0m     \u001b[0mdata\u001b[0m \u001b[0;34m=\u001b[0m \u001b[0;34m[\u001b[0m\u001b[0mx\u001b[0m \u001b[0;34m*\u001b[0m \u001b[0;36m2\u001b[0m \u001b[0;32mfor\u001b[0m \u001b[0mx\u001b[0m \u001b[0;32min\u001b[0m \u001b[0mrange\u001b[0m\u001b[0;34m(\u001b[0m\u001b[0;36m1000000\u001b[0m\u001b[0;34m)\u001b[0m\u001b[0;34m]\u001b[0m  \u001b[0;31m# Allocate a large list\u001b[0m\u001b[0;34m\u001b[0m\u001b[0;34m\u001b[0m\u001b[0m\n",
            "\u001b[0;31mModuleNotFoundError\u001b[0m: No module named 'memory_profiler'",
            "",
            "\u001b[0;31m---------------------------------------------------------------------------\u001b[0;32m\nNOTE: If your import is failing due to a missing package, you can\nmanually install dependencies using either !pip or !apt.\n\nTo view examples of installing some common dependencies, click the\n\"Open Examples\" button below.\n\u001b[0;31m---------------------------------------------------------------------------\u001b[0m\n"
          ],
          "errorDetails": {
            "actions": [
              {
                "action": "open_url",
                "actionText": "Open Examples",
                "url": "/notebooks/snippets/importing_libraries.ipynb"
              }
            ]
          }
        }
      ]
    },
    {
      "cell_type": "markdown",
      "source": [
        "17. Write a Python program to create and write a list of numbers to a file, one number per line?"
      ],
      "metadata": {
        "id": "Bw15VrLrK8vJ"
      }
    },
    {
      "cell_type": "code",
      "source": [
        "with open('numbers.txt','w') as f:\n",
        "  for i in range(1,11):\n",
        "    f.write(f\"{i}\\n\")\n",
        "\n",
        "with open('numbers.txt','r') as f:\n",
        "    print(f.read())"
      ],
      "metadata": {
        "colab": {
          "base_uri": "https://localhost:8080/"
        },
        "id": "XMTVEdNGLA5v",
        "outputId": "db4b5d97-2548-472c-d2f6-8b16db8d8fec"
      },
      "execution_count": 33,
      "outputs": [
        {
          "output_type": "stream",
          "name": "stdout",
          "text": [
            "1\n",
            "2\n",
            "3\n",
            "4\n",
            "5\n",
            "6\n",
            "7\n",
            "8\n",
            "9\n",
            "10\n",
            "\n"
          ]
        }
      ]
    },
    {
      "cell_type": "markdown",
      "source": [
        "18. How would you implement a basic logging setup that logs to a file with rotation after 1MB?\n"
      ],
      "metadata": {
        "id": "1h3KoVLkLQk4"
      }
    },
    {
      "cell_type": "code",
      "source": [
        "import logging\n",
        "from logging.handlers import RotatingFileHandler\n",
        "\n",
        "# Create a logger\n",
        "logger = logging.getLogger(\"my_logger\")\n",
        "logger.setLevel(logging.DEBUG)  # Set the logging level\n",
        "\n",
        "# Create a rotating file handler\n",
        "handler = RotatingFileHandler(\n",
        "    \"app.log\",        # Log file name\n",
        "    maxBytes=1_000_000,  # Rotate after 1MB (1,000,000 bytes)\n",
        "    backupCount=3        # Keep up to 3 backup log files\n",
        ")\n",
        "\n",
        "# Set a log message format\n",
        "formatter = logging.Formatter('%(asctime)s - %(levelname)s - %(message)s')\n",
        "handler.setFormatter(formatter)\n",
        "\n",
        "# Add the handler to the logger\n",
        "logger.addHandler(handler)\n",
        "\n",
        "# Example log messages\n",
        "logger.info(\"Application started\")\n",
        "logger.debug(\"Debugging info here\")\n",
        "logger.error(\"An error occurred\")"
      ],
      "metadata": {
        "colab": {
          "base_uri": "https://localhost:8080/"
        },
        "id": "xpGXxB-mLfNV",
        "outputId": "f06f2c45-afa8-47bb-af7f-47e0b6890a94"
      },
      "execution_count": 34,
      "outputs": [
        {
          "output_type": "stream",
          "name": "stderr",
          "text": [
            "INFO:my_logger:Application started\n",
            "DEBUG:my_logger:Debugging info here\n",
            "ERROR:my_logger:An error occurred\n"
          ]
        }
      ]
    },
    {
      "cell_type": "markdown",
      "source": [
        "19.  Write a program that handles both IndexError and KeyError using a try-except block?\n"
      ],
      "metadata": {
        "id": "j-KeKRHaLtgo"
      }
    },
    {
      "cell_type": "code",
      "source": [
        "my_list = [1, 2, 3]\n",
        "my_dict = {'a': 10, 'b': 20}\n",
        "\n",
        "try:\n",
        "    print(\"List item:\", my_list[5])       # IndexError\n",
        "    print(\"Dict value:\", my_dict['z'])    # KeyError\n",
        "except IndexError:\n",
        "    print(\"IndexError: That list index is out of range.\")\n",
        "except KeyError:\n",
        "    print(\"KeyError: That key does not exist in the dictionary.\")"
      ],
      "metadata": {
        "colab": {
          "base_uri": "https://localhost:8080/"
        },
        "id": "6jrFmKTHL7tR",
        "outputId": "d23b9fe0-8f41-4cb8-cd7b-a20fbd2ac333"
      },
      "execution_count": 36,
      "outputs": [
        {
          "output_type": "stream",
          "name": "stdout",
          "text": [
            "IndexError: That list index is out of range.\n"
          ]
        }
      ]
    },
    {
      "cell_type": "markdown",
      "source": [
        "20. How would you open a file and read its contents using a context manager in Python?"
      ],
      "metadata": {
        "id": "sMnmKDabMHQW"
      }
    },
    {
      "cell_type": "code",
      "source": [
        "with open(\"file.txt\", 'r') as file:\n",
        "    content = file.read()\n",
        "    print(content)"
      ],
      "metadata": {
        "colab": {
          "base_uri": "https://localhost:8080/"
        },
        "id": "SXfSOF6EMRAc",
        "outputId": "a6d2e63b-e334-4b53-85ff-70b9e3d0e946"
      },
      "execution_count": 37,
      "outputs": [
        {
          "output_type": "stream",
          "name": "stdout",
          "text": [
            "hello worldappending data\n",
            "appending data\n"
          ]
        }
      ]
    },
    {
      "cell_type": "markdown",
      "source": [
        "21.Write a Python program that reads a file and prints the number of occurrences of a specific word?\n"
      ],
      "metadata": {
        "id": "J1eJtn6QMT1E"
      }
    },
    {
      "cell_type": "code",
      "source": [
        "with open(\"file.txt\",'r') as f:\n",
        "  content = f.read()\n",
        "  print(content.count(\"data\"))"
      ],
      "metadata": {
        "colab": {
          "base_uri": "https://localhost:8080/"
        },
        "id": "G03hup7DMY9X",
        "outputId": "831c6692-9608-4539-a7fb-6ad50cf81c39"
      },
      "execution_count": 39,
      "outputs": [
        {
          "output_type": "stream",
          "name": "stdout",
          "text": [
            "2\n"
          ]
        }
      ]
    },
    {
      "cell_type": "markdown",
      "source": [
        "22. How can you check if a file is empty before attempting to read its contents"
      ],
      "metadata": {
        "id": "R-5cM7a5MfGY"
      }
    },
    {
      "cell_type": "code",
      "source": [
        "with open(\"file.txt\",'r') as f:\n",
        "  content = f.read()\n",
        "  if content.strip():\n",
        "    print(content)\n",
        "  else:\n",
        "    print(\"file is empty\")"
      ],
      "metadata": {
        "colab": {
          "base_uri": "https://localhost:8080/"
        },
        "id": "Q48NcfShMl-8",
        "outputId": "259c1e36-bc66-4f79-81ed-6ff47db84f2e"
      },
      "execution_count": 42,
      "outputs": [
        {
          "output_type": "stream",
          "name": "stdout",
          "text": [
            "hello worldappending data\n",
            "appending data\n"
          ]
        }
      ]
    },
    {
      "cell_type": "markdown",
      "source": [
        "23. Write a Python program that writes to a log file when an error occurs during file handling.\n"
      ],
      "metadata": {
        "id": "ts-Gs_gQMyYQ"
      }
    },
    {
      "cell_type": "code",
      "source": [
        "import logging\n",
        "\n",
        "# Set up basic logging configuration\n",
        "logging.basicConfig(\n",
        "    filename='error.log',          # Log file name\n",
        "    level=logging.ERROR,           # Log only errors and above\n",
        "    format='%(asctime)s - %(levelname)s - %(message)s'\n",
        ")\n",
        "\n",
        "# File handling with error logging\n",
        "try:\n",
        "    with open(\"fil.txt\", 'r') as file:\n",
        "        content = file.read()\n",
        "        print(content)\n",
        "except FileNotFoundError as e:\n",
        "    logging.error(\"File not found: fil.txt\")\n",
        "    print(\"Error: file not found.\")\n",
        "except Exception as e:\n",
        "    logging.error(f\"Unexpected error: {e}\")\n",
        "    print(\"An unexpected error occurred.\")"
      ],
      "metadata": {
        "colab": {
          "base_uri": "https://localhost:8080/"
        },
        "id": "zSSyu-tsM4ED",
        "outputId": "3d636e93-699e-49dc-ff10-a33407251f02"
      },
      "execution_count": 44,
      "outputs": [
        {
          "output_type": "stream",
          "name": "stderr",
          "text": [
            "ERROR:root:File not found: fil.txt\n"
          ]
        },
        {
          "output_type": "stream",
          "name": "stdout",
          "text": [
            "Error: file not found.\n"
          ]
        }
      ]
    }
  ]
}